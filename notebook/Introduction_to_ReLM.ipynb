{
 "cells": [
  {
   "cell_type": "markdown",
   "id": "4bb26c3c",
   "metadata": {},
   "source": [
    "# Introduction to ReLM"
   ]
  },
  {
   "cell_type": "markdown",
   "id": "51f15126",
   "metadata": {},
   "source": [
    "ReLM is a <u>r</u>egular <u>e</u>xpression (regex) search engine for <u>l</u>anguage <u>m</u>odels (LMs).\n",
    "At a high level, a user inputs a query to ReLM in the form of a [regular expression](https://en.wikipedia.org/wiki/Regular_expression), the regular expression is compiled to a representation of the space of matching strings, and the ReLM engine executes the language model over that space.\n",
    "\n",
    "One area that ReLM can be applied to is _model validation_, the act of ensuring that a model conforms to specifications of correctness.\n",
    "For example, it is clear that a language model should be accurate in its predictions, but it may also be desirable for it to _not_ have other properties, such as the ability to generate biased, toxic, or memorized text.\n",
    "Such testing is specifically useful for autoregressive large language models (LLMs), which consume and produce _arbitrary strings_, and thus have more degrees of freedom than traditional machine learning models."
   ]
  },
  {
   "cell_type": "markdown",
   "id": "7b0ce230",
   "metadata": {},
   "source": [
    "##  Model Loading"
   ]
  },
  {
   "cell_type": "markdown",
   "id": "cc253b6e",
   "metadata": {},
   "source": [
    "To start, let's load the XL variant of [GPT-2](https://openai.com/research/better-language-models) model using Hugging Face Transformers.\n",
    "Note that you can use a smaller model (e.g., \"gpt2\") if you need to (e.g., limited GPU memory), though some of this notebook's commentary will make less sense.\n",
    "\n",
    "At this point, we're just loading a model and its tokenizer, and ReLM is not yet needed.\n",
    "If you need more information on [PyTorch](https://pytorch.org/) or Hugging Face [Transformers](https://huggingface.co/docs/transformers/index), you can check out their tutorials\n",
    "[\\[1\\]](https://pytorch.org/tutorials/)\n",
    "[\\[2\\]](https://huggingface.co/docs/transformers/quicktour)."
   ]
  },
  {
   "cell_type": "code",
   "execution_count": 1,
   "id": "894c92ff",
   "metadata": {
    "ExecuteTime": {
     "end_time": "2023-03-31T02:45:37.237795Z",
     "start_time": "2023-03-31T02:45:23.388044Z"
    }
   },
   "outputs": [],
   "source": [
    "import torch\n",
    "torch.manual_seed(42)\n",
    "\n",
    "from transformers import AutoModelForCausalLM\n",
    "from transformers import AutoTokenizer\n",
    "\n",
    "device = \"cuda\" if torch.cuda.is_available() else \"cpu\"\n",
    "model_id = \"gpt2-xl\"  # Change this to \"gpt2\" if you get memory issues\n",
    "\n",
    "tokenizer = AutoTokenizer.from_pretrained(model_id, use_fast=True)\n",
    "model = AutoModelForCausalLM.from_pretrained(model_id,\n",
    "                                             return_dict_in_generate=True,\n",
    "                                             pad_token_id=tokenizer.eos_token_id).to(device)"
   ]
  },
  {
   "cell_type": "markdown",
   "id": "38a2d12c",
   "metadata": {},
   "source": [
    "## A Validation Warmup"
   ]
  },
  {
   "cell_type": "markdown",
   "id": "6782b3b7",
   "metadata": {},
   "source": [
    "Let's now pretend we are testing the model.\n",
    "We want to answer the question: \"Does the model know the birthdate of George Washington?\".\n",
    "One way to do this test is to sample from the model given the prefix, and see what happens.\n",
    "You can see that we can't glean much from this information---some of the responses aren't even dates, and they have all this extra stuff at the end.\n",
    "We can see some patterns in the data (e.g., date ranges and sentence structure) which may allow us to be more or less confident that the model knows _something_.\n",
    "\n",
    "However, analyzing the entire distribution seems ***hard*** because we don't even have a consistent format of the \n",
    "date (e.g., \"May 10, 1732\" vs. \"this day in 1732\").\n",
    "The phrase \"this day in 1732\" is technically correct one day of the year, but that sort of answer is not something we _want_ to evaluate.\n",
    "Can we test the set of responses in a way where the output _is_ structured (i.e., where we know we will get a date for sure)? 🤔"
   ]
  },
  {
   "cell_type": "code",
   "execution_count": 2,
   "id": "b68288aa",
   "metadata": {
    "ExecuteTime": {
     "end_time": "2023-03-31T02:45:41.279964Z",
     "start_time": "2023-03-31T02:45:37.244578Z"
    },
    "scrolled": true
   },
   "outputs": [
    {
     "name": "stdout",
     "output_type": "stream",
     "text": [
      "George Washington was born on May 10, 1732 and died on March 4, 1799. George Washington became president under the\n",
      "George Washington was born on the day Abraham Lincoln would have been buried.[1] It was in 1799 and the US was\n",
      "George Washington was born on August 21, 1732 in New Kent, New York to David and Mary Washington — a slave woman\n",
      "George Washington was born on January 22, 1732 in Williamsburg, Virginia. He and his brother, Thomas, who died\n",
      "George Washington was born on this day in 1732. He became one of the greatest U.S. leaders of all time\n",
      "George Washington was born on October 8, 1732, the second of five children who died shortly after his birth. Washington had\n",
      "George Washington was born on April 19, 1732, in Williamsburg, Virginia. His family joined the British colony of Virginia\n",
      "George Washington was born on November 19, 1732. He died on January 21, 1799 and was buried in Arlington National\n",
      "George Washington was born on November 13, 1732 during an important time in American history as well. It was during this time\n",
      "George Washington was born on this day in 1732.\n",
      "\n",
      "George Washington was born on this day in 1732, one\n"
     ]
    }
   ],
   "source": [
    "# Create a prefix/prompt\n",
    "prefix = \"George Washington was born on\"\n",
    "# Convert it to tokens. We add BOS token (as mirrored below).\n",
    "input_ids = torch.tensor([tokenizer.bos_token_id,] + tokenizer.encode(prefix)).reshape(1, -1).to(device)\n",
    "# Generate responses from the model (in tokens)\n",
    "tokens = model.generate(input_ids,\n",
    "                        max_new_tokens=20,\n",
    "                        num_return_sequences=10,\n",
    "                        do_sample=True).sequences\n",
    "# Print the strings representing the responses\n",
    "for t in tokens:\n",
    "    print(tokenizer.decode(t[1:]))"
   ]
  },
  {
   "cell_type": "markdown",
   "id": "94ef0e86",
   "metadata": {},
   "source": [
    "##  Continuing Validation with ReLM"
   ]
  },
  {
   "cell_type": "markdown",
   "id": "471037f5",
   "metadata": {},
   "source": [
    "To demonstrate ReLM, let's do a simple knowledge verification query of the model, building off the prior example.\n",
    "Specifically, let's test for George Washington's birthday.\n",
    "One way to do this is to ask \"George Washington was born on <u>date</u>\".\n",
    "Let's construct the query in ReLM."
   ]
  },
  {
   "cell_type": "markdown",
   "id": "684aea62",
   "metadata": {},
   "source": [
    "### Query Construction"
   ]
  },
  {
   "cell_type": "markdown",
   "id": "fb78d2bc",
   "metadata": {},
   "source": [
    "Below, we construct a regular expression query using ReLM's abstractions.\n",
    "To start, we have to define what strings we are looking for, using a `relm.QueryString`.\n",
    "The first parameter, `query_str`, defines exactly what strings we are looking for.\n",
    "In regular expression syntax, we are saying \"George Washington was born on <u>date</u>\", where \"<u>date</u>\" is a month, day, and year.\n",
    "Notice we also fill in the `prefix_str` parameter.\n",
    "`prefix_str` is a substring of `query_str`, and it indicates that the user wants that prefix to be treated as if it were fixed.\n",
    "If you are familiar with [prompting](https://en.wikipedia.org/wiki/Prompt_engineering), the `prefix_str` parameter is trying to capture the prompt.\n",
    "Importantly, since the `prefix_str` is treated as fixed, ReLM always traverses these prefixes, even if they would otherwise be rejected due to other query constraints.\n",
    "While `query_str` is in some sense a _rejection_ of strings a user is interested in (i.e., reject all strings that don't match the regular expression pattern), the `prefix_str` is in a similar sense an unconditional _acceptance_ of strings a user is interested in."
   ]
  },
  {
   "cell_type": "code",
   "execution_count": 3,
   "id": "558ded3c",
   "metadata": {
    "ExecuteTime": {
     "end_time": "2023-03-31T02:45:41.995157Z",
     "start_time": "2023-03-31T02:45:41.280919Z"
    }
   },
   "outputs": [],
   "source": [
    "import relm\n",
    "query_string = relm.QueryString(query_str=(\"George Washington was born on \"\n",
    "                                           \"((January)|(February)|(March)|(April)|\"\n",
    "                                           \"(May)|(June)|(July)|(August)|(September)|\"\n",
    "                                           \"(October)|(November)|(December)) \"\n",
    "                                           \"[0-9]{1,2}, [0-9]{4}\"),\n",
    "                                prefix_str=\"George Washington was born on\"\n",
    "                               )"
   ]
  },
  {
   "cell_type": "markdown",
   "id": "79033a67",
   "metadata": {},
   "source": [
    "Now, we need to _execute_ the query.\n",
    "To do so, ReLM needs some additional information, which is specified to the `relm.SimpleSearchQuery` object.\n",
    "Namely, we specify:\n",
    "1. What strings are we interested in?\n",
    "2. What is the traversal order over the space of strings?\n",
    "3. What type of tokenizations of the strings do we want to explore?\n",
    "4. What application-specific parameters do we have?\n",
    "\n",
    "To start, notice we set `top_k` to `None`.\n",
    "_top-k_ is used to reject sequences which are very unlikely compared to alternatives.\n",
    "By setting it to `None`, we are saying that we don't want to apply this option.\n",
    "Some applications use this parameter, so it is important to address it.\n",
    "We could have alternatively set `top_k = 40`, which is a common value for the parameter.\n",
    "In that case, `prefix_str` would have been important to not reject strings starting with \"George Washington\" in case the tokens for \"George Washington\" were not all in the top 40 tokens.\n",
    "\n",
    "Now, we begin by constructing the `relm.SimpleSearchQuery` object.\n",
    "First, notice we pass our `relm.QueryString` object to the `query_string` parameter to specify the strings we are interested in.\n",
    "Second, we say that the `search_strategy` is a `relm.QuerySearchStrategy.SHORTEST_PATH`, which means our traversal order finds the most likely strings first.\n",
    "Alternatively, we could have set this parameter to `relm.QuerySearchStrategy.RANDOM_SAMPLING`, to sample from the set of strings.\n",
    "Third, we specify that the `tokenization_strategy` is a `relm.QueryTokenizationStrategy.ALL_TOKENS`, which means we are interested in all tokenizations of the strings.\n",
    "If we wanted to only use the most compact representation of a string (i.e., what a tokenization encoder would return for that string), we would pass `relm.QueryTokenizationStrategy.CANONICAL_TOKENS`.\n",
    "Fourth, we set the `top_k_sampling` to our `top_k` parameter and set `sequence_length=None` to indicate that for our application, we want to not use `top_k` and our sequences are unlimited in terms of the number of tokens, barring limitations of the model."
   ]
  },
  {
   "cell_type": "code",
   "execution_count": 4,
   "id": "4ccd0c47",
   "metadata": {
    "ExecuteTime": {
     "end_time": "2023-03-31T02:45:41.998559Z",
     "start_time": "2023-03-31T02:45:41.996455Z"
    }
   },
   "outputs": [],
   "source": [
    "top_k = None\n",
    "query = relm.SimpleSearchQuery(query_string=query_string,\n",
    "                               search_strategy=relm.QuerySearchStrategy.SHORTEST_PATH,\n",
    "                               tokenization_strategy=relm.QueryTokenizationStrategy.ALL_TOKENS,\n",
    "                               top_k_sampling=top_k,\n",
    "                               sequence_length=None,\n",
    "                              )"
   ]
  },
  {
   "cell_type": "markdown",
   "id": "0684710e",
   "metadata": {},
   "source": [
    "### Search Construction"
   ]
  },
  {
   "cell_type": "markdown",
   "id": "40f1afeb",
   "metadata": {},
   "source": [
    "Now that we have the `query` object, we need to do something with it to get results.\n",
    "To do so, we launch a `relm.search` procedure, which binds the `model` and `tokenizer` to the `query`.\n",
    "In return, we get an [iterator](https://wiki.python.org/moin/Iterator) over the solution space.\n",
    "The iterator, `ret_iter`, will return tokens—the model-specific integers representing the strings—that match our query.\n",
    "Note that search construction will build internal-specific data structures for ReLM, and thus may take a moment to complete."
   ]
  },
  {
   "cell_type": "code",
   "execution_count": 5,
   "id": "aa4d85e4",
   "metadata": {
    "ExecuteTime": {
     "end_time": "2023-03-31T02:45:43.634121Z",
     "start_time": "2023-03-31T02:45:41.999436Z"
    }
   },
   "outputs": [],
   "source": [
    "ret_iter = relm.search(model, tokenizer, query)"
   ]
  },
  {
   "cell_type": "markdown",
   "id": "f9a56ef2",
   "metadata": {},
   "source": [
    "## Sampling"
   ]
  },
  {
   "cell_type": "markdown",
   "id": "89ae67b7",
   "metadata": {},
   "source": [
    "We can now launch the query.\n",
    "We'll create a helper function `process_relm_iterator` for processing the iterator.\n",
    "By default, the iterator may return much more strings that we are willing to inspect.\n",
    "For this demo, we truncate the iterator after the first `num_samples=100` samples by setting `itertools.islice(ret_iter, num_samples)`.\n",
    "\n",
    "ReLM comes with some utilities to help us with common tasks, such as predicting the probability of a token sequence.\n",
    "To use these, we need to wrap the model and tokenizer in a model wrapper that ReLM interacts with, a `relm.model_wrapper.TestableModel`.\n",
    "This wrapper is essentially a translation layer between the model + tokenizer and the ReLM backend.\n",
    "\n",
    "In the loop, we return the tuples of tokens that match on the query in the variable `x`.\n",
    "We then add the Beginning of Sequence (BOS) Token back to `x`, since it is used internally as a prefix to the query.\n",
    "We can evaluate the probability of the tokens in `x` by iteratively computing the probability of each token, and we store that value in `p`.\n",
    "Since `p` represents length $n$ vector of probabilities (one for each token), where $n$ is the sequence length, we can calculate the total probability $\\prod_{i=1}^n p_i$ of the sequence.\n",
    "We can also compute the conditional probability $\\prod_{i=j}^n p_i$ for the suffix, where the suffix starts at token $j$.\n",
    "Finally, we convert the sequence `x` to a string `match_string`."
   ]
  },
  {
   "cell_type": "code",
   "execution_count": 6,
   "id": "f1ae3084",
   "metadata": {
    "ExecuteTime": {
     "end_time": "2023-03-31T02:46:27.655680Z",
     "start_time": "2023-03-31T02:45:43.634990Z"
    }
   },
   "outputs": [
    {
     "data": {
      "application/vnd.jupyter.widget-view+json": {
       "model_id": "10835b59f8b142018f9d909cd357259d",
       "version_major": 2,
       "version_minor": 0
      },
      "text/plain": [
       "0it [00:00, ?it/s]"
      ]
     },
     "metadata": {},
     "output_type": "display_data"
    }
   ],
   "source": [
    "import numpy as np\n",
    "import itertools\n",
    "\n",
    "def end_of_prefix_idx(test_relm, prefix, tokens):\n",
    "    \"\"\"Find first index where tokens are not in prefix.\"\"\"\n",
    "    i = 0\n",
    "    curr_str = \"\"\n",
    "    stack = list(reversed(tokens))\n",
    "    while not curr_str.startswith(prefix):\n",
    "        curr = stack[-1]\n",
    "        stack.pop(-1)\n",
    "        s = test_relm.tokens_to_words([curr])\n",
    "        curr_str += s\n",
    "        i += 1\n",
    "    return i\n",
    "\n",
    "def process_relm_iterator(ret_iter, num_samples=100):\n",
    "    \"\"\"Retrieve num_samples items and return processed data.\"\"\"\n",
    "    test_relm = relm.model_wrapper.TestableModel(model, tokenizer)\n",
    "\n",
    "    xs = []\n",
    "    matches = []\n",
    "    probs = []\n",
    "    conditional_probs = []\n",
    "    for x in itertools.islice(ret_iter, num_samples):\n",
    "        x = (tokenizer.bos_token_id,) + x  # Add BOS back\n",
    "        p = test_relm.point_query_tokens(x, top_k=top_k)\n",
    "        # Get (conditional) probability of non-prefix\n",
    "        conditional_p_idx = end_of_prefix_idx(\n",
    "            test_relm, query_string.prefix_str, x[1:])\n",
    "        conditional_p = p[conditional_p_idx:]\n",
    "        conditional_p = np.prod(conditional_p)\n",
    "        p = np.prod(p)  # Get total prob\n",
    "        match_string = test_relm.tokens_to_words(x)\n",
    "        xs.append(x)\n",
    "        matches.append(match_string)\n",
    "        probs.append(p)\n",
    "        conditional_probs.append(conditional_p)\n",
    "        \n",
    "    return xs, matches, probs, conditional_probs\n",
    "\n",
    "xs, matches, probs, conditional_probs = process_relm_iterator(ret_iter)"
   ]
  },
  {
   "cell_type": "markdown",
   "id": "6811b7c8",
   "metadata": {},
   "source": [
    "For this query, let's see what the most likely matches are."
   ]
  },
  {
   "cell_type": "code",
   "execution_count": 7,
   "id": "06a199da",
   "metadata": {
    "ExecuteTime": {
     "end_time": "2023-03-31T02:46:27.660134Z",
     "start_time": "2023-03-31T02:46:27.656656Z"
    }
   },
   "outputs": [
    {
     "data": {
      "text/plain": [
       "['George Washington was born on July 4, 1732',\n",
       " 'George Washington was born on November 22, 1732',\n",
       " 'George Washington was born on December 22, 1732',\n",
       " 'George Washington was born on January 22, 1732',\n",
       " 'George Washington was born on January 20, 1732',\n",
       " 'George Washington was born on February 22, 1732',\n",
       " 'George Washington was born on April 30, 1732',\n",
       " 'George Washington was born on April 22, 1732',\n",
       " 'George Washington was born on September 22, 1732',\n",
       " 'George Washington was born on December 25, 1732']"
      ]
     },
     "execution_count": 7,
     "metadata": {},
     "output_type": "execute_result"
    }
   ],
   "source": [
    "matches[:10]"
   ]
  },
  {
   "cell_type": "markdown",
   "id": "805352be",
   "metadata": {},
   "source": [
    "Hmm, the top answer is not what we wanted 🤔.\n",
    "The expected [birthdate](https://en.wikipedia.org/wiki/George_Washington) is February 22, 1732.\n",
    "However, we can see that the correct answer is 6th in this list, so the model is reasonably aware of the correct answer.\n",
    "Unlike the opening example, we know for sure that we get a date in exactly the format we wanted.\n",
    "\n",
    "In fact, let's check that all matches are valid matches according to the regular expression.\n",
    "Just for fun, let's use the Python [re](https://docs.python.org/3/library/re.html) module.\n",
    "Note that ReLM uses a different, internal regular-expression backend, so we should be careful that the syntax is the same.\n",
    "However, in this case, the `query_str` means the same thing in both cases."
   ]
  },
  {
   "cell_type": "code",
   "execution_count": 8,
   "id": "6655fc27",
   "metadata": {
    "ExecuteTime": {
     "end_time": "2023-03-31T02:46:27.668467Z",
     "start_time": "2023-03-31T02:46:27.661206Z"
    }
   },
   "outputs": [],
   "source": [
    "import re\n",
    "\n",
    "prog = re.compile(query_string.query_str)\n",
    "for match in matches:\n",
    "    assert re.match(prog, match)"
   ]
  },
  {
   "cell_type": "markdown",
   "id": "68c0ddb8",
   "metadata": {},
   "source": [
    "✅ Looks good.\n",
    "\n",
    "Finally, let's see that the traversal order goes from most likely to least in terms of total probability.\n",
    "If we were using random sampling, we wouldn't expect this to be the case."
   ]
  },
  {
   "cell_type": "code",
   "execution_count": 9,
   "id": "2f20f0c1",
   "metadata": {
    "ExecuteTime": {
     "end_time": "2023-03-31T02:46:28.106871Z",
     "start_time": "2023-03-31T02:46:27.670036Z"
    }
   },
   "outputs": [
    {
     "name": "stdout",
     "output_type": "stream",
     "text": [
      "Reference probability: 1.195227810057986e-06\n"
     ]
    },
    {
     "data": {
      "image/png": "[encoded data removed]",
      "text/plain": [
       "<Figure size 432x288 with 1 Axes>"
      ]
     },
     "metadata": {
      "needs_background": "light"
     },
     "output_type": "display_data"
    }
   ],
   "source": [
    "import matplotlib.pyplot as plt\n",
    "\n",
    "# Calculate non-date conforming response as a baseline\n",
    "ref_response = \"George Washington was born on this day in 1732\"\n",
    "test_relm = relm.model_wrapper.TestableModel(model, tokenizer)\n",
    "input_ids = torch.tensor([tokenizer.bos_token_id,] +\n",
    "                         tokenizer.encode(ref_response)).reshape(1, -1).to(device)\n",
    "ref_p = test_relm.point_query_tokens(input_ids, top_k=top_k)[1:]  # Don't include BOS prob\n",
    "ref_p = np.prod(ref_p)  # Get total prob\n",
    "print(\"Reference probability: {}\".format(ref_p))\n",
    "\n",
    "def plot_sample_probability(probs, show_ref_prob=False):\n",
    "    \"\"\"Show total probabilities of ReLM's outputs.\"\"\"\n",
    "    plt.plot(probs, label=\"ReLM Output\")\n",
    "    plt.ylabel(\"Probability\")\n",
    "    plt.xlabel(\"Sample\")\n",
    "    if show_ref_prob:\n",
    "        plt.hlines(xmin=0, xmax=len(probs), y=ref_p, colors=\"r\",\n",
    "                   linestyles=\"dashed\", label=\"Example Probability\")\n",
    "    plt.tight_layout()\n",
    "    \n",
    "plot_sample_probability(probs, show_ref_prob=False)"
   ]
  },
  {
   "cell_type": "markdown",
   "id": "cb5a1ed2",
   "metadata": {},
   "source": [
    "✅ We see the probability is decreasing over the samples, indicating responses are ordered by likelihood.\n",
    "We also calculate a reference probability for \"George Washington was born on this day in 1732\".\n",
    "We can see that the reference is actually _higher_ likelihood than the dates ReLM found—perhaps because the model doesn't have to commit to a particular date."
   ]
  },
  {
   "cell_type": "markdown",
   "id": "ca7d4ddb",
   "metadata": {},
   "source": [
    "# Extra Queries"
   ]
  },
  {
   "cell_type": "markdown",
   "id": "705f20f1",
   "metadata": {},
   "source": [
    "### Anything Goes and Free Response"
   ]
  },
  {
   "cell_type": "markdown",
   "id": "9474e61c",
   "metadata": {},
   "source": [
    "Building on the introduction example, what if we didn't constrain ReLM to use a date?\n",
    "`(( )|([a-zA-Z0-9])|(,))+` represents spaces, commas, and alphanumeric characters 1+ times."
   ]
  },
  {
   "cell_type": "code",
   "execution_count": 10,
   "id": "d57c1a5c",
   "metadata": {
    "ExecuteTime": {
     "end_time": "2023-03-31T02:46:38.811091Z",
     "start_time": "2023-03-31T02:46:28.108544Z"
    }
   },
   "outputs": [
    {
     "data": {
      "application/vnd.jupyter.widget-view+json": {
       "model_id": "52bddfc0160040bcbcf6e53bed51b867",
       "version_major": 2,
       "version_minor": 0
      },
      "text/plain": [
       "0it [00:00, ?it/s]"
      ]
     },
     "metadata": {},
     "output_type": "display_data"
    },
    {
     "data": {
      "text/plain": [
       "['George Washington was born on this',\n",
       " 'George Washington was born on December',\n",
       " 'George Washington was born on this day',\n",
       " 'George Washington was born on January',\n",
       " 'George Washington was born on April',\n",
       " 'George Washington was born on this day in',\n",
       " 'George Washington was born on July',\n",
       " 'George Washington was born on this day in 17',\n",
       " 'George Washington was born on February',\n",
       " 'George Washington was born on March',\n",
       " 'George Washington was born on November',\n",
       " 'George Washington was born on this day in 1732',\n",
       " 'George Washington was born on the',\n",
       " 'George Washington was born on May',\n",
       " 'George Washington was born on June',\n",
       " 'George Washington was born on September',\n",
       " 'George Washington was born on October',\n",
       " 'George Washington was born on July 4',\n",
       " 'George Washington was born on August',\n",
       " 'George Washington was born on July 4,']"
      ]
     },
     "execution_count": 10,
     "metadata": {},
     "output_type": "execute_result"
    }
   ],
   "source": [
    "query_string = relm.QueryString(query_str=\"George Washington was born on (( )|([a-zA-Z0-9])|(,))+\",\n",
    "                                prefix_str=\"George Washington was born on\",\n",
    "                               )\n",
    "top_k = None\n",
    "query = relm.SimpleSearchQuery(query_string=query_string,\n",
    "                               search_strategy=relm.QuerySearchStrategy.SHORTEST_PATH,\n",
    "                               tokenization_strategy=relm.QueryTokenizationStrategy.ALL_TOKENS,\n",
    "                               top_k_sampling=top_k,\n",
    "                               sequence_length=None,\n",
    "                              )\n",
    "ret_iter = relm.search(model, tokenizer, query)\n",
    "\n",
    "xs, matches, probs, conditional_probs = process_relm_iterator(ret_iter, num_samples=20)\n",
    "matches"
   ]
  },
  {
   "cell_type": "markdown",
   "id": "03bda1e4",
   "metadata": {},
   "source": [
    "Look at that: \"George Washington was born on this day in 1732\" appears again.\n",
    "Random sampling sees it come up often because it's likely.\n",
    "Notice that we have limited control over how complete a sentence may be, since our regular expression technically allows a sequence to be complete with only one character."
   ]
  },
  {
   "cell_type": "markdown",
   "id": "7c326649",
   "metadata": {},
   "source": [
    "### Multiple Choice"
   ]
  },
  {
   "cell_type": "markdown",
   "id": "ea33d9f1",
   "metadata": {},
   "source": [
    "We can also use ReLM to construct multiple choice queries. Here, we pick between the 4 dates: `((February 23, 1973)|(March 30, 1973)|(February 1, 1873)|(February 22, 1732))`."
   ]
  },
  {
   "cell_type": "code",
   "execution_count": 11,
   "id": "1a00af27",
   "metadata": {
    "ExecuteTime": {
     "end_time": "2023-03-31T02:47:14.271937Z",
     "start_time": "2023-03-31T02:46:38.811959Z"
    }
   },
   "outputs": [
    {
     "data": {
      "application/vnd.jupyter.widget-view+json": {
       "model_id": "9e07127a45ff4fb8938a7d757e51c3a3",
       "version_major": 2,
       "version_minor": 0
      },
      "text/plain": [
       "0it [00:00, ?it/s]"
      ]
     },
     "metadata": {},
     "output_type": "display_data"
    },
    {
     "data": {
      "text/plain": [
       "['George Washington was born on February 22, 1732',\n",
       " 'George Washington was born on February 22, 1732',\n",
       " 'George Washington was born on February 1, 1873',\n",
       " 'George Washington was born on February 23, 1973',\n",
       " 'George Washington was born on February 22, 1732',\n",
       " 'George Washington was born on March 30, 1973',\n",
       " 'George Washington was born on February 22, 1732',\n",
       " 'George Washington was born on February 22, 1732',\n",
       " 'George Washington was born on February 22, 1732',\n",
       " 'George Washington was born on February 23, 1973',\n",
       " 'George Washington was born on February 22, 1732',\n",
       " 'George Washington was born on March 30, 1973',\n",
       " 'George Washington was born on February 22, 1732',\n",
       " 'George Washington was born on February 22, 1732',\n",
       " 'George Washington was born on February 1, 1873',\n",
       " 'George Washington was born on February 23, 1973',\n",
       " 'George Washington was born on February 1, 1873',\n",
       " 'George Washington was born on February 22, 1732',\n",
       " 'George Washington was born on March 30, 1973',\n",
       " 'George Washington was born on February 22, 1732']"
      ]
     },
     "execution_count": 11,
     "metadata": {},
     "output_type": "execute_result"
    }
   ],
   "source": [
    "query_string = relm.QueryString(query_str=(\"George Washington was born on ((February 23, 1973)|\"\n",
    "                                           \"(March 30, 1973)|(February 1, 1873)|(February 22, 1732))\"),\n",
    "                                prefix_str=\"George Washington was born on\",\n",
    "                               )\n",
    "top_k = None\n",
    "query = relm.SimpleSearchQuery(query_string=query_string,\n",
    "                               search_strategy=relm.QuerySearchStrategy.SHORTEST_PATH,\n",
    "                               tokenization_strategy=relm.QueryTokenizationStrategy.ALL_TOKENS,\n",
    "                               top_k_sampling=top_k,\n",
    "                               sequence_length=None,\n",
    "                              )\n",
    "ret_iter = relm.search(model, tokenizer, query)\n",
    "\n",
    "xs, matches, probs, conditional_probs = process_relm_iterator(ret_iter, num_samples=20)\n",
    "matches"
   ]
  },
  {
   "cell_type": "markdown",
   "id": "2dd096a5",
   "metadata": {},
   "source": [
    "✅ Here, the model is able to guess the right answer.\n",
    "But why are there duplicates? 🤔\n",
    "\n",
    "Well, technically there aren't.\n",
    "The token sequences are unique, but two sequences can map to the same string due to the way tokenization is performed."
   ]
  },
  {
   "cell_type": "code",
   "execution_count": 12,
   "id": "b51628e7",
   "metadata": {
    "ExecuteTime": {
     "end_time": "2023-03-31T02:47:14.276336Z",
     "start_time": "2023-03-31T02:47:14.272810Z"
    }
   },
   "outputs": [
    {
     "data": {
      "text/plain": [
       "[('George Washington was born on February 22, 1732',\n",
       "  (50256, 20191, 2669, 373, 4642, 319, 3945, 2534, 11, 1596, 2624)),\n",
       " ('George Washington was born on February 22, 1732',\n",
       "  (50256, 20191, 2669, 373, 4642, 319, 3158, 622, 560, 2534, 11, 1596, 2624)),\n",
       " ('George Washington was born on February 1, 1873',\n",
       "  (50256, 10082, 3643, 2669, 373, 4642, 319, 3945, 352, 11, 1248, 4790)),\n",
       " ('George Washington was born on February 23, 1973',\n",
       "  (50256, 10082, 3643, 2669, 373, 4642, 319, 3945, 2242, 11, 15674)),\n",
       " ('George Washington was born on February 22, 1732',\n",
       "  (50256, 20191, 2669, 373, 4642, 319, 3158, 81, 2838, 2534, 11, 1596, 2624))]"
      ]
     },
     "execution_count": 12,
     "metadata": {},
     "output_type": "execute_result"
    }
   ],
   "source": [
    "list(zip(matches, xs))[:5]"
   ]
  },
  {
   "cell_type": "markdown",
   "id": "9cee786f",
   "metadata": {
    "ExecuteTime": {
     "end_time": "2023-03-29T14:36:47.592090Z",
     "start_time": "2023-03-29T14:36:47.590137Z"
    }
   },
   "source": [
    "Let's remove the duplicates by enforcing the tokenization is canonical, which requires each string to have a unique encoding.\n",
    "Notice that `tokenization_strategy=relm.QueryTokenizationStrategy.CANONICAL_TOKENS`."
   ]
  },
  {
   "cell_type": "code",
   "execution_count": 13,
   "id": "1353e2ad",
   "metadata": {
    "ExecuteTime": {
     "end_time": "2023-03-31T02:47:17.289476Z",
     "start_time": "2023-03-31T02:47:14.277186Z"
    }
   },
   "outputs": [
    {
     "data": {
      "application/vnd.jupyter.widget-view+json": {
       "model_id": "69091bd22f9f4132b73ed4e9b831793b",
       "version_major": 2,
       "version_minor": 0
      },
      "text/plain": [
       "0it [00:00, ?it/s]"
      ]
     },
     "metadata": {},
     "output_type": "display_data"
    },
    {
     "data": {
      "text/plain": [
       "['George Washington was born on February 22, 1732',\n",
       " 'George Washington was born on March 30, 1973',\n",
       " 'George Washington was born on February 23, 1973',\n",
       " 'George Washington was born on February 1, 1873']"
      ]
     },
     "execution_count": 13,
     "metadata": {},
     "output_type": "execute_result"
    }
   ],
   "source": [
    "query_string = relm.QueryString(query_str=(\"George Washington was born on ((February 23, 1973)|\"\n",
    "                                           \"(March 30, 1973)|(February 1, 1873)|(February 22, 1732))\"),\n",
    "                                prefix_str=\"George Washington was born on\",\n",
    "                               )\n",
    "top_k = None\n",
    "query = relm.SimpleSearchQuery(query_string=query_string,\n",
    "                               search_strategy=relm.QuerySearchStrategy.SHORTEST_PATH,\n",
    "                               tokenization_strategy=relm.QueryTokenizationStrategy.CANONICAL_TOKENS,\n",
    "                               top_k_sampling=top_k,\n",
    "                               sequence_length=None,\n",
    "                              )\n",
    "ret_iter = relm.search(model, tokenizer, query)\n",
    "\n",
    "xs, matches, probs, conditional_probs = process_relm_iterator(ret_iter, num_samples=20)\n",
    "matches"
   ]
  },
  {
   "cell_type": "code",
   "execution_count": 14,
   "id": "b1ca7bf9",
   "metadata": {
    "ExecuteTime": {
     "end_time": "2023-03-31T02:47:17.292578Z",
     "start_time": "2023-03-31T02:47:17.290288Z"
    }
   },
   "outputs": [
    {
     "data": {
      "text/plain": [
       "True"
      ]
     },
     "execution_count": 14,
     "metadata": {},
     "output_type": "execute_result"
    }
   ],
   "source": [
    "len(set(xs)) == len(matches)"
   ]
  },
  {
   "cell_type": "markdown",
   "id": "14dd7620",
   "metadata": {
    "ExecuteTime": {
     "end_time": "2023-03-29T14:39:35.496563Z",
     "start_time": "2023-03-29T14:39:35.493481Z"
    }
   },
   "source": [
    "✅ We see that there are only 4 choices, as expected.\n",
    "Furthermore, the right answer is at the top."
   ]
  },
  {
   "cell_type": "code",
   "execution_count": 15,
   "id": "b06be920",
   "metadata": {
    "ExecuteTime": {
     "end_time": "2023-03-31T02:47:17.358116Z",
     "start_time": "2023-03-31T02:47:17.293378Z"
    }
   },
   "outputs": [
    {
     "data": {
      "image/png": "[encoded data removed]",
      "text/plain": [
       "<Figure size 432x288 with 1 Axes>"
      ]
     },
     "metadata": {
      "needs_background": "light"
     },
     "output_type": "display_data"
    }
   ],
   "source": [
    "plt.bar(matches, probs)\n",
    "plt.xticks(rotation=90)\n",
    "_ = plt.ylabel(\"Probability\")"
   ]
  },
  {
   "cell_type": "markdown",
   "id": "39cd2e09",
   "metadata": {
    "ExecuteTime": {
     "end_time": "2023-03-30T00:36:41.854284Z",
     "start_time": "2023-03-30T00:36:41.851459Z"
    }
   },
   "source": [
    "Since 3 of the 4 bars are invisible, we can plot the negative log conditional probability to better distinguish the trends.\n",
    "Here, lower is more likely."
   ]
  },
  {
   "cell_type": "code",
   "execution_count": 16,
   "id": "b9641df1",
   "metadata": {
    "ExecuteTime": {
     "end_time": "2023-03-31T02:47:17.418863Z",
     "start_time": "2023-03-31T02:47:17.358977Z"
    }
   },
   "outputs": [
    {
     "data": {
      "image/png": "[encoded data removed]",
      "text/plain": [
       "<Figure size 432x288 with 1 Axes>"
      ]
     },
     "metadata": {
      "needs_background": "light"
     },
     "output_type": "display_data"
    }
   ],
   "source": [
    "plt.bar(matches, -np.log(conditional_probs))\n",
    "plt.xticks(rotation=90)\n",
    "_ = plt.ylabel(\"Conditional Negative Log Probability\")"
   ]
  },
  {
   "cell_type": "markdown",
   "id": "f4ececfb",
   "metadata": {
    "ExecuteTime": {
     "end_time": "2023-03-29T15:04:59.376046Z",
     "start_time": "2023-03-29T15:04:59.371795Z"
    }
   },
   "source": [
    "😈 Any idea how we can make the model guess wrong?\n",
    "Well, we already know that \"George Washington was born on July 4, 1732\" is a very likely answer, given the first ReLM query.\n",
    "Let's add that in the answers to throw the model off."
   ]
  },
  {
   "cell_type": "code",
   "execution_count": 17,
   "id": "17717f43",
   "metadata": {
    "ExecuteTime": {
     "end_time": "2023-03-31T02:47:20.327093Z",
     "start_time": "2023-03-31T02:47:17.419643Z"
    }
   },
   "outputs": [
    {
     "data": {
      "application/vnd.jupyter.widget-view+json": {
       "model_id": "aa19a176d81d412eb3813cd1978b9498",
       "version_major": 2,
       "version_minor": 0
      },
      "text/plain": [
       "0it [00:00, ?it/s]"
      ]
     },
     "metadata": {},
     "output_type": "display_data"
    },
    {
     "data": {
      "text/plain": [
       "['George Washington was born on July 4, 1732',\n",
       " 'George Washington was born on February 22, 1732',\n",
       " 'George Washington was born on March 30, 1973',\n",
       " 'George Washington was born on February 1, 1873']"
      ]
     },
     "execution_count": 17,
     "metadata": {},
     "output_type": "execute_result"
    }
   ],
   "source": [
    "query_string = relm.QueryString(query_str=(\"George Washington was born on ((July 4, 1732)|\"\n",
    "                                           \"(March 30, 1973)|(February 1, 1873)|(February 22, 1732))\"),\n",
    "                                prefix_str=\"George Washington was born on\",\n",
    "                               )\n",
    "top_k = None\n",
    "query = relm.SimpleSearchQuery(query_string=query_string,\n",
    "                               search_strategy=relm.QuerySearchStrategy.SHORTEST_PATH,\n",
    "                               tokenization_strategy=relm.QueryTokenizationStrategy.CANONICAL_TOKENS,\n",
    "                               top_k_sampling=top_k,\n",
    "                               sequence_length=None,\n",
    "                              )\n",
    "ret_iter = relm.search(model, tokenizer, query)\n",
    "\n",
    "xs, matches, probs, conditional_probs = process_relm_iterator(ret_iter, num_samples=20)\n",
    "matches"
   ]
  },
  {
   "cell_type": "code",
   "execution_count": 18,
   "id": "ba228612",
   "metadata": {
    "ExecuteTime": {
     "end_time": "2023-03-31T02:47:20.413612Z",
     "start_time": "2023-03-31T02:47:20.328141Z"
    }
   },
   "outputs": [
    {
     "data": {
      "image/png": "[encoded data removed]",
      "text/plain": [
       "<Figure size 432x288 with 1 Axes>"
      ]
     },
     "metadata": {
      "needs_background": "light"
     },
     "output_type": "display_data"
    }
   ],
   "source": [
    "plt.bar(matches, probs)\n",
    "plt.xticks(rotation=90)\n",
    "_ = plt.ylabel(\"Probability\")"
   ]
  },
  {
   "cell_type": "markdown",
   "id": "27b71bfa",
   "metadata": {},
   "source": [
    "😎 As expected, we can always be an adversary with access to a model's predictions outside the multiple choice set.\n",
    "We can always take the most likely incorrect answer and use it to \"poison\" the multiple choice set.\n",
    "If the solution space we draw from is larger than the multiple choice space, it's likely that the most likely answer in that set would displace the most likely answer in the original multiple choice set.\n",
    "\n",
    "Essentially, a multiple choice question can be arbitrarily easy or hard depending on how difficult it is for a model to do the \"process of elimination\" on wrong answers.\n",
    "Notice that the choices which are off by 100+ years are very unlikely, and thus unlikely to be chosen by the model.\n",
    "Even if you didn't know anything about George Washington, you wouldn't guess he was born in the year 3000, would you? 😉\n",
    "\n",
    "That brings us to the main point: why bother with multiple choice if you can query a potentially massive solution space directly?\n",
    "With 12 months, 100 days, and 1000 years, ReLM can look at $12 \\times 100 \\times 1000 = 1200000$ date strings.\n",
    "Why evaluate a model on 4 choices when you can evaluate it on 1200000?"
   ]
  },
  {
   "cell_type": "markdown",
   "id": "f9ae13da",
   "metadata": {},
   "source": [
    "## Conclusion"
   ]
  },
  {
   "cell_type": "markdown",
   "id": "c4b70e9d",
   "metadata": {},
   "source": [
    "So that's it!\n",
    "We have seen how a simple query can be modified in both string space as well as token space to get different results.\n",
    "The power of ReLM is that _you_ can decide exactly what type query is important, and ReLM handles the details for you."
   ]
  }
 ],
 "metadata": {
  "kernelspec": {
   "display_name": "Python 3",
   "language": "python",
   "name": "python3"
  },
  "language_info": {
   "codemirror_mode": {
    "name": "ipython",
    "version": 3
   },
   "file_extension": ".py",
   "mimetype": "text/x-python",
   "name": "python",
   "nbconvert_exporter": "python",
   "pygments_lexer": "ipython3",
   "version": "3.7.9"
  }
 },
 "nbformat": 4,
 "nbformat_minor": 5
}
